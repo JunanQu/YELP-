{
 "cells": [
  {
   "cell_type": "code",
   "execution_count": 1,
   "metadata": {
    "collapsed": true
   },
   "outputs": [],
   "source": [
    "from urllib.request import urlopen\n",
    "from bs4 import BeautifulSoup\n",
    "import pandas as pd                  #data processing e.g. reading files (pd.read_csv)\n",
    "import numpy as np                   #linear algebra\n",
    "import matplotlib.pyplot as plt      #plotting and visualization\n",
    "import seaborn as sns                #visualization\n",
    "import nltk\n",
    "from nltk.corpus import stopwords\n",
    "import requests\n",
    "import warnings\n",
    "warnings.filterwarnings('ignore')\n",
    "plt.rcParams['figure.figsize'] = 8,4\n",
    "\n",
    "%matplotlib inline"
   ]
  },
  {
   "cell_type": "code",
   "execution_count": 2,
   "metadata": {
    "collapsed": true
   },
   "outputs": [],
   "source": [
    "html1 = urlopen(\"https://www.yelp.com/search?find_desc=Restraunts%20&find_loc=nyc\")\n",
    "bsObj1 = BeautifulSoup(html1)\n"
   ]
  },
  {
   "cell_type": "code",
   "execution_count": 3,
   "metadata": {},
   "outputs": [
    {
     "name": "stdout",
     "output_type": "stream",
     "text": [
      "Sugardaddy’s Gentlemen’s Club\n",
      "1. Upstate\n",
      "2. Amélie\n",
      "3. Covenhoven\n",
      "4. LoveMama\n",
      "5. Uglyduckling\n",
      "6. Savida\n",
      "7. Aunt Jake’s\n",
      "8. Joe’s Shanghai\n",
      "9. Burger & Lobster\n",
      "10. Raku\n"
     ]
    }
   ],
   "source": [
    "#Get the Names Gyms\n",
    "nameList = bsObj1.find_all('div', {'class': 'lemon--div__373c0__1mboc businessName__373c0__1fTgn border-color--default__373c0__2oFDT'})\n",
    "for name in nameList:\n",
    "    print(name.get_text())"
   ]
  },
  {
   "cell_type": "code",
   "execution_count": 4,
   "metadata": {},
   "outputs": [
    {
     "name": "stdout",
     "output_type": "stream",
     "text": [
      "['https://www.yelp.com/biz/eleven-madison-park-new-york?start=120&sort_by=date_desc', 'https://www.yelp.com/biz/eleven-madison-park-new-york?start=140&sort_by=date_desc', 'https://www.yelp.com/biz/eleven-madison-park-new-york?start=160&sort_by=date_desc', 'https://www.yelp.com/biz/eleven-madison-park-new-york?start=180&sort_by=date_desc', 'https://www.yelp.com/biz/eleven-madison-park-new-york?start=200&sort_by=date_desc', 'https://www.yelp.com/biz/eleven-madison-park-new-york?start=220&sort_by=date_desc', 'https://www.yelp.com/biz/eleven-madison-park-new-york?start=240&sort_by=date_desc', 'https://www.yelp.com/biz/eleven-madison-park-new-york?start=260&sort_by=date_desc', 'https://www.yelp.com/biz/eleven-madison-park-new-york?start=280&sort_by=date_desc', 'https://www.yelp.com/biz/eleven-madison-park-new-york?start=300&sort_by=date_desc', 'https://www.yelp.com/biz/eleven-madison-park-new-york?start=320&sort_by=date_desc']\n"
     ]
    }
   ],
   "source": [
    "#Get the harbor fitness reviews\n",
    "urls = []\n",
    "c = 120\n",
    "for i in range(11): \n",
    "    new = \"https://www.yelp.com/biz/eleven-madison-park-new-york?start=\"+str(c)+\"&sort_by=date_desc\"\n",
    "    urls.append(new)\n",
    "    c+=20\n",
    "Reviews_mad = []\n",
    "print(urls)\n",
    "for url in urls:\n",
    "    html = urlopen(url)\n",
    "    bsObj4 = BeautifulSoup(html)\n",
    "    reviewers = bsObj4.find_all('div', {'itemprop': 'review'})\n",
    "    for name in reviewers:\n",
    "        Reviews_mad.append(name.get_text())"
   ]
  },
  {
   "cell_type": "code",
   "execution_count": 14,
   "metadata": {},
   "outputs": [],
   "source": [
    "# Ratings_mad = []\n",
    "# # print(urls)\n",
    "# for url in urls:\n",
    "#     html = urlopen(url)\n",
    "#     bsObj4 = BeautifulSoup(html)\n",
    "    \n",
    "#     print(url)    \n",
    "#     for reviewBody in bsObj4.findAll('div',{\"class\":\"review-content\"}):\n",
    "#         Ratings_mad.append(reviewBody.div.div.div.get(\"title\"))\n",
    "       "
   ]
  },
  {
   "cell_type": "code",
   "execution_count": null,
   "metadata": {
    "collapsed": true
   },
   "outputs": [],
   "source": [
    "Ratings_mad = []\n",
    "for url in urls:\n",
    "    html = urlopen(url)\n",
    "    bsObj4 = BeautifulSoup(html)      \n",
    "    for reviewBody in bsObj4.findAll('div',{\"class\":\"review-content\"}):\n",
    "        Ratings_mad.append(reviewBody.div.div.div.get(\"title\"))\n",
    "       "
   ]
  },
  {
   "cell_type": "code",
   "execution_count": 7,
   "metadata": {
    "scrolled": true
   },
   "outputs": [
    {
     "name": "stdout",
     "output_type": "stream",
     "text": [
      "440\n"
     ]
    }
   ],
   "source": [
    "print(len(Ratings_mad))"
   ]
  },
  {
   "cell_type": "code",
   "execution_count": 8,
   "metadata": {},
   "outputs": [
    {
     "name": "stdout",
     "output_type": "stream",
     "text": [
      "220\n"
     ]
    }
   ],
   "source": [
    "print(len(Reviews_mad))"
   ]
  },
  {
   "cell_type": "code",
   "execution_count": null,
   "metadata": {
    "collapsed": true
   },
   "outputs": [],
   "source": []
  },
  {
   "cell_type": "code",
   "execution_count": 9,
   "metadata": {
    "collapsed": true
   },
   "outputs": [],
   "source": [
    "yelp_combined = [{'Review': Reviews_mad,'Rating':Ratings_mad}]"
   ]
  },
  {
   "cell_type": "code",
   "execution_count": 12,
   "metadata": {},
   "outputs": [
    {
     "data": {
      "text/plain": [
       "1"
      ]
     },
     "execution_count": 12,
     "metadata": {},
     "output_type": "execute_result"
    }
   ],
   "source": [
    "(yelp_combined)"
   ]
  },
  {
   "cell_type": "code",
   "execution_count": 13,
   "metadata": {},
   "outputs": [],
   "source": [
    "yelp_data = pd.DataFrame(yelp_combined)"
   ]
  },
  {
   "cell_type": "code",
   "execution_count": null,
   "metadata": {},
   "outputs": [],
   "source": [
    "yelp_data.head(100)"
   ]
  },
  {
   "cell_type": "code",
   "execution_count": null,
   "metadata": {
    "collapsed": true
   },
   "outputs": [],
   "source": [
    "yelp_data['Review'] = [i.replace('\\n', '') for i in yelp_data['Review']]"
   ]
  },
  {
   "cell_type": "code",
   "execution_count": null,
   "metadata": {},
   "outputs": [],
   "source": [
    "yelp_data.head()"
   ]
  },
  {
   "cell_type": "code",
   "execution_count": null,
   "metadata": {
    "collapsed": true
   },
   "outputs": [],
   "source": [
    "yelp_data.to_csv(\"yelp_data.csv\")"
   ]
  }
 ],
 "metadata": {
  "kernelspec": {
   "display_name": "Python 3",
   "language": "python",
   "name": "python3"
  },
  "language_info": {
   "codemirror_mode": {
    "name": "ipython",
    "version": 3
   },
   "file_extension": ".py",
   "mimetype": "text/x-python",
   "name": "python",
   "nbconvert_exporter": "python",
   "pygments_lexer": "ipython3",
   "version": "3.6.1"
  },
  "latex_envs": {
   "LaTeX_envs_menu_present": true,
   "autoclose": false,
   "autocomplete": true,
   "bibliofile": "biblio.bib",
   "cite_by": "apalike",
   "current_citInitial": 1,
   "eqLabelWithNumbers": true,
   "eqNumInitial": 1,
   "hotkeys": {
    "equation": "Ctrl-E",
    "itemize": "Ctrl-I"
   },
   "labels_anchors": false,
   "latex_user_defs": false,
   "report_style_numbering": false,
   "user_envs_cfg": false
  }
 },
 "nbformat": 4,
 "nbformat_minor": 2
}
